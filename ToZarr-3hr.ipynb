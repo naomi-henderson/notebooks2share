{
 "cells": [
  {
   "cell_type": "code",
   "execution_count": 1,
   "metadata": {},
   "outputs": [
    {
     "data": {
      "text/plain": [
       "'0.11.1+69.gc770eec'"
      ]
     },
     "execution_count": 1,
     "metadata": {},
     "output_type": "execute_result"
    }
   ],
   "source": [
    "import xarray as xr\n",
    "import pandas as pd\n",
    "from matplotlib import pyplot as plt\n",
    "%matplotlib inline\n",
    "xr.__version__"
   ]
  },
  {
   "cell_type": "code",
   "execution_count": 2,
   "metadata": {},
   "outputs": [
    {
     "data": {
      "text/plain": [
       "'2.2.1.dev146'"
      ]
     },
     "execution_count": 2,
     "metadata": {},
     "output_type": "execute_result"
    }
   ],
   "source": [
    "import zarr\n",
    "zarr.__version__"
   ]
  },
  {
   "cell_type": "code",
   "execution_count": 3,
   "metadata": {},
   "outputs": [
    {
     "data": {
      "text/plain": [
       "['cmip6_monthly', 'cmip6_3hourly']"
      ]
     },
     "execution_count": 3,
     "metadata": {},
     "output_type": "execute_result"
    }
   ],
   "source": [
    "import intake\n",
    "list(intake.cat)"
   ]
  },
  {
   "cell_type": "code",
   "execution_count": 4,
   "metadata": {},
   "outputs": [
    {
     "data": {
      "text/plain": [
       "['IPSL-CM6A-LR', 'CNRM-CM6-1', 'CNRM-ESM2-1', 'GISS-E2-1-G', 'BCC-CSM2-MR']"
      ]
     },
     "execution_count": 4,
     "metadata": {},
     "output_type": "execute_result"
    }
   ],
   "source": [
    "df = intake.cat.cmip6_3hourly.read()\n",
    "list(df.source_id.unique())"
   ]
  },
  {
   "cell_type": "code",
   "execution_count": 5,
   "metadata": {},
   "outputs": [],
   "source": [
    "# drop the 365_day models for now\n",
    "df = df.drop(df.loc[df['source_id'] == 'BCC-CSM2-MR'].index)\n",
    "df = df.drop(df.loc[df['source_id'] == 'GISS-E2-1-G'].index)\n",
    "\n",
    "# use the local files instead of the OPENDAP_url in aggregation\n",
    "df['OPENDAP_url'] = df.file_fullpath"
   ]
  },
  {
   "cell_type": "code",
   "execution_count": 6,
   "metadata": {},
   "outputs": [],
   "source": [
    "models = list(df.source_id.unique())"
   ]
  },
  {
   "cell_type": "code",
   "execution_count": 7,
   "metadata": {},
   "outputs": [
    {
     "data": {
      "text/html": [
       "<div>\n",
       "<style scoped>\n",
       "    .dataframe tbody tr th:only-of-type {\n",
       "        vertical-align: middle;\n",
       "    }\n",
       "\n",
       "    .dataframe tbody tr th {\n",
       "        vertical-align: top;\n",
       "    }\n",
       "\n",
       "    .dataframe thead th {\n",
       "        text-align: right;\n",
       "    }\n",
       "</style>\n",
       "<table border=\"1\" class=\"dataframe\">\n",
       "  <thead>\n",
       "    <tr style=\"text-align: right;\">\n",
       "      <th></th>\n",
       "      <th>Unnamed: 0</th>\n",
       "      <th>File_Name</th>\n",
       "      <th>activity_id</th>\n",
       "      <th>institution_id</th>\n",
       "      <th>source_id</th>\n",
       "      <th>experiment_id</th>\n",
       "      <th>member_id</th>\n",
       "      <th>table_id</th>\n",
       "      <th>variable_id</th>\n",
       "      <th>grid_label</th>\n",
       "      <th>version_id</th>\n",
       "      <th>file_fullpath</th>\n",
       "      <th>file_path</th>\n",
       "      <th>OPENDAP_url</th>\n",
       "      <th>HTTPServer_url</th>\n",
       "    </tr>\n",
       "  </thead>\n",
       "  <tbody>\n",
       "    <tr>\n",
       "      <th>0</th>\n",
       "      <td>0</td>\n",
       "      <td>pr_3hr_IPSL-CM6A-LR_historical_r7i1p1f1_gr_185...</td>\n",
       "      <td>CMIP</td>\n",
       "      <td>IPSL</td>\n",
       "      <td>IPSL-CM6A-LR</td>\n",
       "      <td>historical</td>\n",
       "      <td>r7i1p1f1</td>\n",
       "      <td>3hr</td>\n",
       "      <td>pr</td>\n",
       "      <td>gr</td>\n",
       "      <td>v20180803</td>\n",
       "      <td>/dm3/naomi/CMIP6hr3/CMIP/IPSL/IPSL-CM6A-LR/his...</td>\n",
       "      <td>CMIP/IPSL/IPSL-CM6A-LR/historical/r7i1p1f1/3hr...</td>\n",
       "      <td>/dm3/naomi/CMIP6hr3/CMIP/IPSL/IPSL-CM6A-LR/his...</td>\n",
       "      <td>http://mary.ldeo.columbia.edu/testing/CMIP6hr3...</td>\n",
       "    </tr>\n",
       "    <tr>\n",
       "      <th>1</th>\n",
       "      <td>1</td>\n",
       "      <td>pr_3hr_IPSL-CM6A-LR_historical_r7i1p1f1_gr_195...</td>\n",
       "      <td>CMIP</td>\n",
       "      <td>IPSL</td>\n",
       "      <td>IPSL-CM6A-LR</td>\n",
       "      <td>historical</td>\n",
       "      <td>r7i1p1f1</td>\n",
       "      <td>3hr</td>\n",
       "      <td>pr</td>\n",
       "      <td>gr</td>\n",
       "      <td>v20180803</td>\n",
       "      <td>/dm3/naomi/CMIP6hr3/CMIP/IPSL/IPSL-CM6A-LR/his...</td>\n",
       "      <td>CMIP/IPSL/IPSL-CM6A-LR/historical/r7i1p1f1/3hr...</td>\n",
       "      <td>/dm3/naomi/CMIP6hr3/CMIP/IPSL/IPSL-CM6A-LR/his...</td>\n",
       "      <td>http://mary.ldeo.columbia.edu/testing/CMIP6hr3...</td>\n",
       "    </tr>\n",
       "    <tr>\n",
       "      <th>6</th>\n",
       "      <td>6</td>\n",
       "      <td>pr_3hr_IPSL-CM6A-LR_historical_r6i1p1f1_gr_195...</td>\n",
       "      <td>CMIP</td>\n",
       "      <td>IPSL</td>\n",
       "      <td>IPSL-CM6A-LR</td>\n",
       "      <td>historical</td>\n",
       "      <td>r6i1p1f1</td>\n",
       "      <td>3hr</td>\n",
       "      <td>pr</td>\n",
       "      <td>gr</td>\n",
       "      <td>v20180803</td>\n",
       "      <td>/dm3/naomi/CMIP6hr3/CMIP/IPSL/IPSL-CM6A-LR/his...</td>\n",
       "      <td>CMIP/IPSL/IPSL-CM6A-LR/historical/r6i1p1f1/3hr...</td>\n",
       "      <td>/dm3/naomi/CMIP6hr3/CMIP/IPSL/IPSL-CM6A-LR/his...</td>\n",
       "      <td>http://mary.ldeo.columbia.edu/testing/CMIP6hr3...</td>\n",
       "    </tr>\n",
       "    <tr>\n",
       "      <th>7</th>\n",
       "      <td>7</td>\n",
       "      <td>pr_3hr_IPSL-CM6A-LR_historical_r6i1p1f1_gr_185...</td>\n",
       "      <td>CMIP</td>\n",
       "      <td>IPSL</td>\n",
       "      <td>IPSL-CM6A-LR</td>\n",
       "      <td>historical</td>\n",
       "      <td>r6i1p1f1</td>\n",
       "      <td>3hr</td>\n",
       "      <td>pr</td>\n",
       "      <td>gr</td>\n",
       "      <td>v20180803</td>\n",
       "      <td>/dm3/naomi/CMIP6hr3/CMIP/IPSL/IPSL-CM6A-LR/his...</td>\n",
       "      <td>CMIP/IPSL/IPSL-CM6A-LR/historical/r6i1p1f1/3hr...</td>\n",
       "      <td>/dm3/naomi/CMIP6hr3/CMIP/IPSL/IPSL-CM6A-LR/his...</td>\n",
       "      <td>http://mary.ldeo.columbia.edu/testing/CMIP6hr3...</td>\n",
       "    </tr>\n",
       "    <tr>\n",
       "      <th>12</th>\n",
       "      <td>12</td>\n",
       "      <td>pr_3hr_IPSL-CM6A-LR_historical_r3i1p1f1_gr_195...</td>\n",
       "      <td>CMIP</td>\n",
       "      <td>IPSL</td>\n",
       "      <td>IPSL-CM6A-LR</td>\n",
       "      <td>historical</td>\n",
       "      <td>r3i1p1f1</td>\n",
       "      <td>3hr</td>\n",
       "      <td>pr</td>\n",
       "      <td>gr</td>\n",
       "      <td>v20180803</td>\n",
       "      <td>/dm3/naomi/CMIP6hr3/CMIP/IPSL/IPSL-CM6A-LR/his...</td>\n",
       "      <td>CMIP/IPSL/IPSL-CM6A-LR/historical/r3i1p1f1/3hr...</td>\n",
       "      <td>/dm3/naomi/CMIP6hr3/CMIP/IPSL/IPSL-CM6A-LR/his...</td>\n",
       "      <td>http://mary.ldeo.columbia.edu/testing/CMIP6hr3...</td>\n",
       "    </tr>\n",
       "  </tbody>\n",
       "</table>\n",
       "</div>"
      ],
      "text/plain": [
       "    Unnamed: 0                                          File_Name activity_id  \\\n",
       "0            0  pr_3hr_IPSL-CM6A-LR_historical_r7i1p1f1_gr_185...        CMIP   \n",
       "1            1  pr_3hr_IPSL-CM6A-LR_historical_r7i1p1f1_gr_195...        CMIP   \n",
       "6            6  pr_3hr_IPSL-CM6A-LR_historical_r6i1p1f1_gr_195...        CMIP   \n",
       "7            7  pr_3hr_IPSL-CM6A-LR_historical_r6i1p1f1_gr_185...        CMIP   \n",
       "12          12  pr_3hr_IPSL-CM6A-LR_historical_r3i1p1f1_gr_195...        CMIP   \n",
       "\n",
       "   institution_id     source_id experiment_id member_id table_id variable_id  \\\n",
       "0            IPSL  IPSL-CM6A-LR    historical  r7i1p1f1      3hr          pr   \n",
       "1            IPSL  IPSL-CM6A-LR    historical  r7i1p1f1      3hr          pr   \n",
       "6            IPSL  IPSL-CM6A-LR    historical  r6i1p1f1      3hr          pr   \n",
       "7            IPSL  IPSL-CM6A-LR    historical  r6i1p1f1      3hr          pr   \n",
       "12           IPSL  IPSL-CM6A-LR    historical  r3i1p1f1      3hr          pr   \n",
       "\n",
       "   grid_label version_id                                      file_fullpath  \\\n",
       "0          gr  v20180803  /dm3/naomi/CMIP6hr3/CMIP/IPSL/IPSL-CM6A-LR/his...   \n",
       "1          gr  v20180803  /dm3/naomi/CMIP6hr3/CMIP/IPSL/IPSL-CM6A-LR/his...   \n",
       "6          gr  v20180803  /dm3/naomi/CMIP6hr3/CMIP/IPSL/IPSL-CM6A-LR/his...   \n",
       "7          gr  v20180803  /dm3/naomi/CMIP6hr3/CMIP/IPSL/IPSL-CM6A-LR/his...   \n",
       "12         gr  v20180803  /dm3/naomi/CMIP6hr3/CMIP/IPSL/IPSL-CM6A-LR/his...   \n",
       "\n",
       "                                            file_path  \\\n",
       "0   CMIP/IPSL/IPSL-CM6A-LR/historical/r7i1p1f1/3hr...   \n",
       "1   CMIP/IPSL/IPSL-CM6A-LR/historical/r7i1p1f1/3hr...   \n",
       "6   CMIP/IPSL/IPSL-CM6A-LR/historical/r6i1p1f1/3hr...   \n",
       "7   CMIP/IPSL/IPSL-CM6A-LR/historical/r6i1p1f1/3hr...   \n",
       "12  CMIP/IPSL/IPSL-CM6A-LR/historical/r3i1p1f1/3hr...   \n",
       "\n",
       "                                          OPENDAP_url  \\\n",
       "0   /dm3/naomi/CMIP6hr3/CMIP/IPSL/IPSL-CM6A-LR/his...   \n",
       "1   /dm3/naomi/CMIP6hr3/CMIP/IPSL/IPSL-CM6A-LR/his...   \n",
       "6   /dm3/naomi/CMIP6hr3/CMIP/IPSL/IPSL-CM6A-LR/his...   \n",
       "7   /dm3/naomi/CMIP6hr3/CMIP/IPSL/IPSL-CM6A-LR/his...   \n",
       "12  /dm3/naomi/CMIP6hr3/CMIP/IPSL/IPSL-CM6A-LR/his...   \n",
       "\n",
       "                                       HTTPServer_url  \n",
       "0   http://mary.ldeo.columbia.edu/testing/CMIP6hr3...  \n",
       "1   http://mary.ldeo.columbia.edu/testing/CMIP6hr3...  \n",
       "6   http://mary.ldeo.columbia.edu/testing/CMIP6hr3...  \n",
       "7   http://mary.ldeo.columbia.edu/testing/CMIP6hr3...  \n",
       "12  http://mary.ldeo.columbia.edu/testing/CMIP6hr3...  "
      ]
     },
     "execution_count": 7,
     "metadata": {},
     "output_type": "execute_result"
    }
   ],
   "source": [
    "files = df[df[\"variable_id\"] == \"pr\"]\n",
    "files.head()"
   ]
  },
  {
   "cell_type": "code",
   "execution_count": 8,
   "metadata": {},
   "outputs": [
    {
     "data": {
      "text/html": [
       "<table style=\"border: 2px solid white;\">\n",
       "<tr>\n",
       "<td style=\"vertical-align: top; border: 0px solid white\">\n",
       "<h3>Client</h3>\n",
       "<ul>\n",
       "  <li><b>Scheduler: </b>tcp://127.0.0.1:34299\n",
       "  <li><b>Dashboard: </b><a href='http://127.0.0.1:8787/status' target='_blank'>http://127.0.0.1:8787/status</a>\n",
       "</ul>\n",
       "</td>\n",
       "<td style=\"vertical-align: top; border: 0px solid white\">\n",
       "<h3>Cluster</h3>\n",
       "<ul>\n",
       "  <li><b>Workers: </b>8</li>\n",
       "  <li><b>Cores: </b>40</li>\n",
       "  <li><b>Memory: </b>134.90 GB</li>\n",
       "</ul>\n",
       "</td>\n",
       "</tr>\n",
       "</table>"
      ],
      "text/plain": [
       "<Client: scheduler='tcp://127.0.0.1:34299' processes=8 cores=40>"
      ]
     },
     "execution_count": 8,
     "metadata": {},
     "output_type": "execute_result"
    }
   ],
   "source": [
    "from dask.distributed import Client\n",
    "\n",
    "client = Client()\n",
    "client"
   ]
  },
  {
   "cell_type": "code",
   "execution_count": 9,
   "metadata": {},
   "outputs": [
    {
     "name": "stderr",
     "output_type": "stream",
     "text": [
      "/usr/local/python/anaconda3/envs/pangeo3.7/lib/python3.6/site-packages/tqdm-4.31.1-py3.6.egg/tqdm/autonotebook/__init__.py:14: TqdmExperimentalWarning: Using `tqdm.autonotebook.tqdm` in notebook mode. Use `tqdm.tqdm` instead to force console mode (e.g. in jupyter console)\n",
      "  \" (e.g. in jupyter console)\", TqdmExperimentalWarning)\n"
     ]
    },
    {
     "data": {
      "application/vnd.jupyter.widget-view+json": {
       "model_id": "81fc669c7c5f4b3d96f3553710ebcd79",
       "version_major": 2,
       "version_minor": 0
      },
      "text/plain": [
       "HBox(children=(IntProgress(value=0, description='dataset', max=3, style=ProgressStyle(description_width='initi…"
      ]
     },
     "metadata": {},
     "output_type": "display_data"
    },
    {
     "data": {
      "application/vnd.jupyter.widget-view+json": {
       "model_id": "7fce95f52d434042be4a327fb471bac2",
       "version_major": 2,
       "version_minor": 0
      },
      "text/plain": [
       "HBox(children=(IntProgress(value=0, description='ensemble', max=1, style=ProgressStyle(description_width='init…"
      ]
     },
     "metadata": {},
     "output_type": "display_data"
    },
    {
     "data": {
      "application/vnd.jupyter.widget-view+json": {
       "model_id": "6dd32da6e40a43e28849ced2fff9c780",
       "version_major": 2,
       "version_minor": 0
      },
      "text/plain": [
       "HBox(children=(IntProgress(value=0, description='variables', max=1, style=ProgressStyle(description_width='ini…"
      ]
     },
     "metadata": {},
     "output_type": "display_data"
    },
    {
     "data": {
      "application/vnd.jupyter.widget-view+json": {
       "model_id": "8467ce0065e84b42813592050fc81b26",
       "version_major": 2,
       "version_minor": 0
      },
      "text/plain": [
       "HBox(children=(IntProgress(value=0, description='ensemble', max=1, style=ProgressStyle(description_width='init…"
      ]
     },
     "metadata": {},
     "output_type": "display_data"
    },
    {
     "data": {
      "application/vnd.jupyter.widget-view+json": {
       "model_id": "752a0c32049d4a20bcb85ed344615a09",
       "version_major": 2,
       "version_minor": 0
      },
      "text/plain": [
       "HBox(children=(IntProgress(value=0, description='variables', max=1, style=ProgressStyle(description_width='ini…"
      ]
     },
     "metadata": {},
     "output_type": "display_data"
    },
    {
     "data": {
      "application/vnd.jupyter.widget-view+json": {
       "model_id": "088e0bbba36c4199820a9d8bef5bd2c6",
       "version_major": 2,
       "version_minor": 0
      },
      "text/plain": [
       "HBox(children=(IntProgress(value=0, description='ensemble', max=1, style=ProgressStyle(description_width='init…"
      ]
     },
     "metadata": {},
     "output_type": "display_data"
    },
    {
     "data": {
      "application/vnd.jupyter.widget-view+json": {
       "model_id": "5d1f445da02045e19c07b79093c12868",
       "version_major": 2,
       "version_minor": 0
      },
      "text/plain": [
       "HBox(children=(IntProgress(value=0, description='variables', max=1, style=ProgressStyle(description_width='ini…"
      ]
     },
     "metadata": {},
     "output_type": "display_data"
    },
    {
     "name": "stdout",
     "output_type": "stream",
     "text": [
      "\n",
      "CPU times: user 7min 39s, sys: 1min 11s, total: 8min 50s\n",
      "Wall time: 1h 9min 7s\n"
     ]
    }
   ],
   "source": [
    "%%time\n",
    "from esgf2zarr import aggregate\n",
    "\n",
    "zarrdir = 'zarr-test-consolidated/'\n",
    "\n",
    "dsets = aggregate.combine_files(files)"
   ]
  },
  {
   "cell_type": "code",
   "execution_count": 10,
   "metadata": {},
   "outputs": [
    {
     "data": {
      "text/plain": [
       "['CNRM-CERFACS.CNRM-CM6-1.historical.3hr.gr',\n",
       " 'CNRM-CERFACS.CNRM-ESM2-1.historical.3hr.gr',\n",
       " 'IPSL.IPSL-CM6A-LR.historical.3hr.gr']"
      ]
     },
     "execution_count": 10,
     "metadata": {},
     "output_type": "execute_result"
    }
   ],
   "source": [
    "names = list(dsets.keys())\n",
    "names"
   ]
  },
  {
   "cell_type": "code",
   "execution_count": 11,
   "metadata": {},
   "outputs": [],
   "source": [
    "for name in names:\n",
    "    nt = dsets[name].time.size\n",
    "    dsets[name]['time'] = pd.date_range('1850-01-01T01:30', periods=nt, freq='3H')"
   ]
  },
  {
   "cell_type": "code",
   "execution_count": 12,
   "metadata": {},
   "outputs": [
    {
     "name": "stdout",
     "output_type": "stream",
     "text": [
      "CNRM-CERFACS.CNRM-CM6-1.historical.3hr.gr zarr-test-consolidated/CNRM-CERFACS.CNRM-CM6-1.historical.3hr.gr\n",
      "CNRM-CERFACS.CNRM-ESM2-1.historical.3hr.gr zarr-test-consolidated/CNRM-CERFACS.CNRM-ESM2-1.historical.3hr.gr\n",
      "IPSL.IPSL-CM6A-LR.historical.3hr.gr zarr-test-consolidated/IPSL.IPSL-CM6A-LR.historical.3hr.gr\n"
     ]
    }
   ],
   "source": [
    "import os\n",
    "from dask.diagnostics import ProgressBar\n",
    "\n",
    "for i, name in enumerate(names):\n",
    "    zdir = zarrdir +  name\n",
    "    command = \"rm -rf \" + zdir\n",
    "    os.system(command)\n",
    "    with ProgressBar():\n",
    "        print(name,zdir)\n",
    "        dsets[name].to_zarr(zdir,consolidated=True)"
   ]
  },
  {
   "cell_type": "code",
   "execution_count": 13,
   "metadata": {},
   "outputs": [
    {
     "name": "stdout",
     "output_type": "stream",
     "text": [
      "362G\tzarr-test-consolidated\n"
     ]
    }
   ],
   "source": [
    "! du -sh zarr-test-consolidated"
   ]
  },
  {
   "cell_type": "code",
   "execution_count": 14,
   "metadata": {},
   "outputs": [
    {
     "data": {
      "text/plain": [
       "<xarray.Dataset>\n",
       "Dimensions:      (axis_nbounds: 2, lat: 128, lon: 256, member_id: 2, time: 482120)\n",
       "Coordinates:\n",
       "  * lat          (lat) float64 -88.93 -87.54 -86.14 -84.74 ... 86.14 87.54 88.93\n",
       "  * lon          (lon) float64 0.0 1.406 2.812 4.219 ... 354.4 355.8 357.2 358.6\n",
       "  * member_id    (member_id) object 'r1i1p1f2' 'r2i1p1f2'\n",
       "  * time         (time) datetime64[ns] 1850-01-01T01:30:00 ... 2014-12-31T22:30:00\n",
       "    time_bounds  (time, axis_nbounds) float64 dask.array<shape=(482120, 2), chunksize=(482120, 2)>\n",
       "Dimensions without coordinates: axis_nbounds\n",
       "Data variables:\n",
       "    pr           (member_id, time, lat, lon) float32 dask.array<shape=(2, 482120, 128, 256), chunksize=(1, 709, 128, 256)>\n",
       "Attributes:\n",
       "    CMIP6_CV_version:      cv=6.2.3.0-7-g2019642\n",
       "    Conventions:           CF-1.7 CMIP-6.2\n",
       "    NCO:                   \"4.5.5\"\n",
       "    activity_id:           CMIP\n",
       "    arpege_minor_version:  6.3.2\n",
       "    branch_method:         standard\n",
       "    branch_time_in_child:  0.0\n",
       "    contact:               contact.cmip@meteo.fr\n",
       "    data_specs_version:    01.00.21\n",
       "    description:           CMIP6 historical\n",
       "    dr2xml_md5sum:         d6225e658d7de0912fca2a4293dbe2a7\n",
       "    dr2xml_version:        1.10\n",
       "    experiment:            all-forcing simulation of the recent past\n",
       "    experiment_id:         historical\n",
       "    external_variables:    areacella\n",
       "    forcing_index:         2\n",
       "    frequency:             3hr\n",
       "    further_info_url:      https://furtherinfo.es-doc.org/CMIP6.CNRM-CERFACS....\n",
       "    grid:                  data regridded to a T127 gaussian grid (128x256 la...\n",
       "    grid_label:            gr\n",
       "    history:               2019-03-13 23:44:23.494694 xarray.open_dataset('/d...\n",
       "    initialization_index:  1\n",
       "    institution:           CNRM (Centre National de Recherches Meteorologique...\n",
       "    institution_id:        CNRM-CERFACS\n",
       "    license:               CMIP6 model data produced by CNRM-CERFACS is licen...\n",
       "    mip_era:               CMIP6\n",
       "    name:                  /scratch/work/voldoire/outputs/CMIP6/DECK/CNRM-CM6...\n",
       "    nemo_gelato_commit:    49095b3accd5d4c_6524fe19b00467a\n",
       "    nominal_resolution:    250 km\n",
       "    parent_activity_id:    CMIP\n",
       "    parent_experiment_id:  piControl\n",
       "    parent_mip_era:        CMIP6\n",
       "    parent_source_id:      CNRM-CM6-1\n",
       "    parent_time_units:     days since 1850-01-01 00:00:00\n",
       "    parent_variant_label:  r1i1p1f2\n",
       "    physics_index:         1\n",
       "    product:               model-output\n",
       "    realm:                 atmos\n",
       "    references:            http://www.umr-cnrm.fr/cmip6/references\n",
       "    source:                CNRM-CM6-1 (2017):  aerosol: prescribed monthly fi...\n",
       "    source_id:             CNRM-CM6-1\n",
       "    source_type:           AOGCM\n",
       "    sub_experiment:        none\n",
       "    sub_experiment_id:     none\n",
       "    table_id:              3hr\n",
       "    title:                 CNRM-CM6-1 model output prepared for CMIP6 / CMIP ...\n",
       "    variable_id:           pr\n",
       "    xios_commit:           1442-shuffle"
      ]
     },
     "execution_count": 14,
     "metadata": {},
     "output_type": "execute_result"
    }
   ],
   "source": [
    "# test one of the datasets\n",
    "\n",
    "zarrdir = '/dm3/naomi/zarr-test-consolidated/'\n",
    "\n",
    "dss = xr.open_zarr(zarrdir+'CNRM-CERFACS.CNRM-CM6-1.historical.3hr.gr')\n",
    "dss"
   ]
  }
 ],
 "metadata": {
  "kernelspec": {
   "display_name": "pangeo3.7",
   "language": "python",
   "name": "pangeo3.7"
  },
  "language_info": {
   "codemirror_mode": {
    "name": "ipython",
    "version": 3
   },
   "file_extension": ".py",
   "mimetype": "text/x-python",
   "name": "python",
   "nbconvert_exporter": "python",
   "pygments_lexer": "ipython3",
   "version": "3.6.7"
  }
 },
 "nbformat": 4,
 "nbformat_minor": 2
}
