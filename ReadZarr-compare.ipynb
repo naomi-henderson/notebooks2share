{
 "cells": [
  {
   "cell_type": "code",
   "execution_count": 3,
   "metadata": {},
   "outputs": [],
   "source": [
    "import xarray as xr\n",
    "import pandas as pd\n",
    "from matplotlib import pyplot as plt\n",
    "%matplotlib inline\n",
    "import zarr"
   ]
  },
  {
   "cell_type": "code",
   "execution_count": 27,
   "metadata": {},
   "outputs": [
    {
     "data": {
      "text/html": [
       "<table class=\"zarr-info\"><tbody><tr><th style=\"text-align: left\">Name</th><td style=\"text-align: left\">/pr</td></tr><tr><th style=\"text-align: left\">Type</th><td style=\"text-align: left\">zarr.core.Array</td></tr><tr><th style=\"text-align: left\">Data type</th><td style=\"text-align: left\">float32</td></tr><tr><th style=\"text-align: left\">Shape</th><td style=\"text-align: left\">(2, 482120, 128, 256)</td></tr><tr><th style=\"text-align: left\">Chunk shape</th><td style=\"text-align: left\">(1, 988, 128, 256)</td></tr><tr><th style=\"text-align: left\">Order</th><td style=\"text-align: left\">C</td></tr><tr><th style=\"text-align: left\">Read-only</th><td style=\"text-align: left\">False</td></tr><tr><th style=\"text-align: left\">Compressor</th><td style=\"text-align: left\">Blosc(cname='zstd', clevel=3, shuffle=BITSHUFFLE, blocksize=0)</td></tr><tr><th style=\"text-align: left\">Store type</th><td style=\"text-align: left\">zarr.storage.DirectoryStore</td></tr><tr><th style=\"text-align: left\">No. bytes</th><td style=\"text-align: left\">126384865280 (117.7G)</td></tr><tr><th style=\"text-align: left\">No. bytes stored</th><td style=\"text-align: left\">111219913163 (103.6G)</td></tr><tr><th style=\"text-align: left\">Storage ratio</th><td style=\"text-align: left\">1.1</td></tr><tr><th style=\"text-align: left\">Chunks initialized</th><td style=\"text-align: left\">976/976</td></tr></tbody></table>"
      ],
      "text/plain": [
       "Name               : /pr\n",
       "Type               : zarr.core.Array\n",
       "Data type          : float32\n",
       "Shape              : (2, 482120, 128, 256)\n",
       "Chunk shape        : (1, 988, 128, 256)\n",
       "Order              : C\n",
       "Read-only          : False\n",
       "Compressor         : Blosc(cname='zstd', clevel=3, shuffle=BITSHUFFLE,\n",
       "                   : blocksize=0)\n",
       "Store type         : zarr.storage.DirectoryStore\n",
       "No. bytes          : 126384865280 (117.7G)\n",
       "No. bytes stored   : 111219913163 (103.6G)\n",
       "Storage ratio      : 1.1\n",
       "Chunks initialized : 976/976"
      ]
     },
     "execution_count": 27,
     "metadata": {},
     "output_type": "execute_result"
    }
   ],
   "source": [
    "dz = zarr.open('zarr-test-consolidated/CNRM-CERFACS.CNRM-CM6-1.historical.3hr.gr')\n",
    "dz.pr.info"
   ]
  },
  {
   "cell_type": "code",
   "execution_count": 28,
   "metadata": {},
   "outputs": [
    {
     "data": {
      "text/html": [
       "<table class=\"zarr-info\"><tbody><tr><th style=\"text-align: left\">Name</th><td style=\"text-align: left\">/pr</td></tr><tr><th style=\"text-align: left\">Type</th><td style=\"text-align: left\">zarr.core.Array</td></tr><tr><th style=\"text-align: left\">Data type</th><td style=\"text-align: left\">float32</td></tr><tr><th style=\"text-align: left\">Shape</th><td style=\"text-align: left\">(2, 482120, 128, 256)</td></tr><tr><th style=\"text-align: left\">Chunk shape</th><td style=\"text-align: left\">(1, 709, 128, 256)</td></tr><tr><th style=\"text-align: left\">Order</th><td style=\"text-align: left\">C</td></tr><tr><th style=\"text-align: left\">Read-only</th><td style=\"text-align: left\">False</td></tr><tr><th style=\"text-align: left\">Compressor</th><td style=\"text-align: left\">Blosc(cname='lz4', clevel=5, shuffle=SHUFFLE, blocksize=0)</td></tr><tr><th style=\"text-align: left\">Store type</th><td style=\"text-align: left\">zarr.storage.DirectoryStore</td></tr><tr><th style=\"text-align: left\">No. bytes</th><td style=\"text-align: left\">126384865280 (117.7G)</td></tr><tr><th style=\"text-align: left\">No. bytes stored</th><td style=\"text-align: left\">117362465766 (109.3G)</td></tr><tr><th style=\"text-align: left\">Storage ratio</th><td style=\"text-align: left\">1.1</td></tr><tr><th style=\"text-align: left\">Chunks initialized</th><td style=\"text-align: left\">1360/1360</td></tr></tbody></table>"
      ],
      "text/plain": [
       "Name               : /pr\n",
       "Type               : zarr.core.Array\n",
       "Data type          : float32\n",
       "Shape              : (2, 482120, 128, 256)\n",
       "Chunk shape        : (1, 709, 128, 256)\n",
       "Order              : C\n",
       "Read-only          : False\n",
       "Compressor         : Blosc(cname='lz4', clevel=5, shuffle=SHUFFLE, blocksize=0)\n",
       "Store type         : zarr.storage.DirectoryStore\n",
       "No. bytes          : 126384865280 (117.7G)\n",
       "No. bytes stored   : 117362465766 (109.3G)\n",
       "Storage ratio      : 1.1\n",
       "Chunks initialized : 1360/1360"
      ]
     },
     "execution_count": 28,
     "metadata": {},
     "output_type": "execute_result"
    }
   ],
   "source": [
    "dz = zarr.open('/dm3/naomi/zarr-test-consolidated/CNRM-CERFACS.CNRM-CM6-1.historical.3hr.gr')\n",
    "dz.pr.info"
   ]
  }
 ],
 "metadata": {
  "kernelspec": {
   "display_name": "pangeo3.7",
   "language": "python",
   "name": "pangeo3.7"
  },
  "language_info": {
   "codemirror_mode": {
    "name": "ipython",
    "version": 3
   },
   "file_extension": ".py",
   "mimetype": "text/x-python",
   "name": "python",
   "nbconvert_exporter": "python",
   "pygments_lexer": "ipython3",
   "version": "3.6.7"
  }
 },
 "nbformat": 4,
 "nbformat_minor": 2
}
